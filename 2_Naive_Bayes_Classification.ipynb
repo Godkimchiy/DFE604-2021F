{
 "cells": [
  {
   "cell_type": "markdown",
   "metadata": {},
   "source": [
    "# Naive Bayes Classification\n",
    " \n",
    "\n",
    "Naive Bayes Classification 은 모든 특성 값이 서로 독립임을 가정하여, 특성들 사이에서의 발생할 수 있는 연관성을 배제하고 각각의 특성이 분류할 대상에 대해 독립적으로 기여할 수 있도록 한다. 베이즈 정리와 조건부 확률을 이용하여 다음과 같이 사후 확률 (Posterior)에 대하여 사전 확률 (Prior) 과 우도 (Likelihood) 로 표현할 수 있다. \n",
    "\n",
    "* \\\\( \\hat{y} = \\text{argmax}_y p(y | X) \\\\)  \n",
    "* \\\\( p(y|X) = \\frac{p( \\mathbf{X} | y) p(y)}{p(\\mathbf{X})} \\\\)  \n",
    "    * 사전 확률 (Prior Probability) : \\\\( p(y) \\\\)\n",
    "    * 우도 (Likelihood Probability) : \\\\( p(X | y) =  \\prod_i p(x_i | y) p(y) \\;  \\\\)   \n",
    "    * 사후 확률 (Posterior Probability) : \\\\( p(y | X)  \\\\)\n",
    "    \n",
    "(Naive Bayes Classifier : https://en.wikipedia.org/wiki/Naive_Bayes_classifier)"
   ]
  },
  {
   "cell_type": "markdown",
   "metadata": {},
   "source": [
    "#### < 예제 > Naive Bayes Classification 을 이용한 Spam filter\n",
    "\n",
    "* 조건\n",
    "\n",
    "    * 스팸 필터링을 위한 Naive Bayes model 의 독립 변수 (V)\n",
    "        * V = ”secret”, ”offer”, ”low”, ”price”, ”valued”, ”customer”, ”today”, ”dollar”, ”million”, ”sports”, ”is”, ”for”, ”play”, ”healthy”, ”pizza”\n",
    "\n",
    "    * 주어진 학습 데이터 (스팸 메시지 3개, 정상 메시지 4개)\n",
    "        * 스팸 메시지 = ”million dollar offer”, ”secret offer today”, ”secret is secret”\n",
    "        * 정상 메시지 = ”low price for valued customer”, ”play secret sports today”, ”sports is healthy”, ”low price pizza”\n",
    "\n",
    "\n",
    "*  Naive Bayes model 과 학습 데이터로 제공된 메시지를 이용하여 각각의 확률을 계산\n",
    "    * P(secret|spam) := Nd(secret,spam) / Nd(spam) = 2/3\n",
    "    * P(spam) = ?\n",
    "    * P(sports|non-spam) = ? \n",
    "    * P(dollar|spam) = ?\n",
    "    * P(“sports is healthy”|spam) = ? \n",
    "    * P(“sports is healthy”|non-spam) = ?\n",
    "    * P(spam|“sports is healthy”) = ? \n",
    "    * P(non-spam|“sports is healthy”) = ? \n",
    "\n",
    "\n",
    "* 학습된 Naive Bayes model 을 이용하여 스팸 메시지와 정상 메시지를 구분하는 코드 구현\n",
    "    * \\\\( p(y|X) = \\frac{p( \\mathbf{X} | y) p(y)}{p(\\mathbf{X})} \\\\)\n",
    "    * matplotlib 라이브러리를 이용하여 visualization\n",
    "      \n",
    " \n"
   ]
  },
  {
   "cell_type": "code",
   "execution_count": 1,
   "metadata": {},
   "outputs": [],
   "source": [
    "import numpy as np"
   ]
  },
  {
   "cell_type": "code",
   "execution_count": 2,
   "metadata": {},
   "outputs": [],
   "source": [
    "# Naive bayes model\n",
    "\n",
    "V = [\"secret\", \"offer\", \"low\", \"price\", \"valued\", \"customer\", \"today\", \"dollar\", \"million\", \"sports\", \"is\", \"for\", \"play\", \"healthy\", \"pizza\"]"
   ]
  },
  {
   "cell_type": "code",
   "execution_count": 3,
   "metadata": {},
   "outputs": [],
   "source": [
    "# 단어 별 인덱스 추가\n",
    "\n",
    "v_idx_mapping = {}\n",
    "for i, word in enumerate(V):\n",
    "    v_idx_mapping[word] = i\n"
   ]
  },
  {
   "cell_type": "code",
   "execution_count": 4,
   "metadata": {
    "scrolled": true
   },
   "outputs": [
    {
     "data": {
      "text/plain": [
       "{'secret': 0,\n",
       " 'offer': 1,\n",
       " 'low': 2,\n",
       " 'price': 3,\n",
       " 'valued': 4,\n",
       " 'customer': 5,\n",
       " 'today': 6,\n",
       " 'dollar': 7,\n",
       " 'million': 8,\n",
       " 'sports': 9,\n",
       " 'is': 10,\n",
       " 'for': 11,\n",
       " 'play': 12,\n",
       " 'healthy': 13,\n",
       " 'pizza': 14}"
      ]
     },
     "execution_count": 4,
     "metadata": {},
     "output_type": "execute_result"
    }
   ],
   "source": [
    "v_idx_mapping"
   ]
  },
  {
   "cell_type": "code",
   "execution_count": 5,
   "metadata": {},
   "outputs": [],
   "source": [
    "# 주어진 학습 데이터 \n",
    "# 스팸 메시지 : spam_msgs\n",
    "# 정상 메시지 : ham_msgs \n",
    "\n",
    "spam_msgs = [\"million dollar offer\", \"secret offer today\", \"secret is secret\"]\n",
    "ham_msgs = [\"low price for valued customer offer\", \"play secret sports today\", \"sports is healthy\", \"low price pizza\"]"
   ]
  },
  {
   "cell_type": "code",
   "execution_count": 6,
   "metadata": {},
   "outputs": [],
   "source": [
    "table = np.zeros([2, len(V)])\n",
    "\n",
    "# 주어진 메시지를 단어 단위로 구분\n",
    "# 중복 단어 제거 \n",
    "\n",
    "spam_list = [ set(spam_msg.split(' ')) for spam_msg in spam_msgs ]\n",
    "ham_list = [ set(ham_msg.split(' ')) for ham_msg in ham_msgs ]"
   ]
  },
  {
   "cell_type": "code",
   "execution_count": 7,
   "metadata": {},
   "outputs": [],
   "source": [
    "# 스팸 메시지와 정상 메시지를 구성하는 단어의 수를 계산하여 Table 에 입력\n",
    "# 스팸 : [0, :] / 정상 : [1, :]\n",
    "\n",
    "for i, word in enumerate(V):\n",
    "    for spam_msg in spam_list:\n",
    "        table[0][i] += word in spam_msg\n",
    "    \n",
    "    for ham_msg in ham_list:\n",
    "        table[1][i] += word in ham_msg"
   ]
  },
  {
   "cell_type": "code",
   "execution_count": 8,
   "metadata": {},
   "outputs": [
    {
     "data": {
      "text/plain": [
       "array([[2., 2., 0., 0., 0., 0., 1., 1., 1., 0., 1., 0., 0., 0., 0.],\n",
       "       [1., 1., 2., 2., 1., 1., 1., 0., 0., 2., 1., 1., 1., 1., 1.]])"
      ]
     },
     "execution_count": 8,
     "metadata": {},
     "output_type": "execute_result"
    }
   ],
   "source": [
    "# y label : 스팸 메시지, 정상 메시지\n",
    "# X data : Naive Bayes model (V)\n",
    "# tabel : 학습 데이터로부터 계산한 스팸 메시지와 정상 메시지의 단어 수\n",
    "\n",
    "table"
   ]
  },
  {
   "cell_type": "code",
   "execution_count": 9,
   "metadata": {},
   "outputs": [],
   "source": [
    "# num_spam : 스팸 메시지 수\n",
    "# num_ham : 정상 메시지 수\n",
    "# num_total : 총 메시지 수\n",
    "\n",
    "num_spam = len(spam_msgs)\n",
    "num_ham = len(ham_msgs)\n",
    "num_total = num_ham + num_spam\n",
    "\n",
    "\n",
    "# P(spam), P(ham) \n",
    "\n",
    "p_spam = num_spam / num_total # 3/7\n",
    "p_ham = num_ham / num_total # 4/7"
   ]
  },
  {
   "cell_type": "code",
   "execution_count": 10,
   "metadata": {},
   "outputs": [
    {
     "name": "stdout",
     "output_type": "stream",
     "text": [
      "P(y) : \n",
      " [0.42857143 0.57142857]\n",
      "\n",
      "P(Xi) : \n",
      " [[0.66666667 0.66666667 0.         0.         0.         0.\n",
      "  0.33333333 0.33333333 0.33333333 0.         0.33333333 0.\n",
      "  0.         0.         0.        ]\n",
      " [0.25       0.25       0.5        0.5        0.25       0.25\n",
      "  0.25       0.         0.         0.5        0.25       0.25\n",
      "  0.25       0.25       0.25      ]]\n"
     ]
    }
   ],
   "source": [
    "# 사전 확률 (pior) \n",
    "\n",
    "p_xi_y = table / np.array([num_spam, num_ham]).reshape(2, 1)\n",
    "p_y = np.array([num_spam, num_ham]) / num_total\n",
    "\n",
    "print('P(y) : \\n', p_y)\n",
    "print('\\nP(Xi) : \\n', p_xi_y)"
   ]
  },
  {
   "cell_type": "code",
   "execution_count": 11,
   "metadata": {},
   "outputs": [
    {
     "name": "stdout",
     "output_type": "stream",
     "text": [
      "P(secret|spam):  0.6666666666666666\n",
      "P(spam):  0.42857142857142855\n",
      "P(sports|non-spam):  0.5\n",
      "P(dollar|spam):  0.3333333333333333\n"
     ]
    }
   ],
   "source": [
    "# P(secret|spam) = Nd(secret, spam) / Nd(spam) = 2/3\n",
    "print('P(secret|spam): ', table[0][v_idx_mapping['secret']]/num_spam)\n",
    "print('P(spam): ', p_spam)\n",
    "\n",
    "p_xi_ham = table[1][v_idx_mapping['sports']]/num_ham\n",
    "p_xi_spam = table[0][v_idx_mapping['dollar']]/num_spam\n",
    "print('P(sports|non-spam): ', p_xi_ham)\n",
    "print('P(dollar|spam): ', p_xi_spam)"
   ]
  },
  {
   "cell_type": "code",
   "execution_count": 12,
   "metadata": {},
   "outputs": [
    {
     "name": "stdout",
     "output_type": "stream",
     "text": [
      "P(\"sports is healthy\"|spam):  0.0\n",
      "P(\"sports is healthy\"|non-spam):  0.03125\n"
     ]
    }
   ],
   "source": [
    "p_x_spam = table[0][v_idx_mapping['sports']]/num_spam \\\n",
    "        * table[0][v_idx_mapping['is']]/num_spam \\\n",
    "        * table[0][v_idx_mapping['healthy']]/num_spam\n",
    "\n",
    "p_x_ham = table[1][v_idx_mapping['sports']]/num_ham \\\n",
    "        * table[1][v_idx_mapping['is']]/num_ham \\\n",
    "        * table[1][v_idx_mapping['healthy']]/num_ham\n",
    "\n",
    "print('P(\"sports is healthy\"|spam): ', p_x_spam)\n",
    "print('P(\"sports is healthy\"|non-spam): ', p_x_ham)\n"
   ]
  },
  {
   "cell_type": "code",
   "execution_count": 13,
   "metadata": {},
   "outputs": [
    {
     "name": "stdout",
     "output_type": "stream",
     "text": [
      "P(spam|\"sports is healthy\"):  0.0\n",
      "P(non-spam|\"sports is healthy\"):  1.0\n"
     ]
    }
   ],
   "source": [
    "p_spam_x = (p_x_spam * p_spam) / ( (p_x_spam * p_spam) + (p_x_ham * p_ham) )\n",
    "p_ham_x = (p_x_ham * p_ham)  / ( (p_x_spam * p_spam) + (p_x_ham * p_ham) )\n",
    "\n",
    "print('P(spam|\"sports is healthy\"): ', p_spam_x)\n",
    "print('P(non-spam|\"sports is healthy\"): ', p_ham_x)"
   ]
  },
  {
   "cell_type": "markdown",
   "metadata": {},
   "source": [
    "* (풀이)\n",
    "\n",
    "    * \\\\( P(secret|spam) = \\frac{N_d(secret)}{N_d(spam)} = \\frac{2}{3}  \\\\)  \n",
    "\n",
    "    * \\\\( P(spam) = \\frac{N_d(spam)}{N_d(spam) + N_d(ham)} = \\frac{3}{3 + 4} = \\frac{3}{7} \\\\)\n",
    "\n",
    "    * \\\\( P(sports|ham) = \\frac{N_d(sports)}{N_d(ham)} = \\frac{2}{4}  \\\\)\n",
    "\n",
    "    * \\\\( P(dollar|spam) = \\frac{N_d(dollar)}{N_d(spam)} = \\frac{1}{3}  \\\\)\n",
    "\n",
    "    * \\\\( P(sports\\; is\\; healthy|spam) = P(sports|spam) \\cdot P(is|spam)\\cdot P(healthy|spam)\n",
    "    = \\frac{0}{3} \\cdot \\frac{1}{3} \\cdot \\frac{0}{3} = 0 \\\\)\n",
    "\n",
    "    * \\\\( P(sports\\; is\\; healthy|ham) = P(sports|ham) \\cdot P(is|ham)\\cdot P(healthy|ham)\n",
    "    = \\frac{2}{4} \\cdot \\frac{1}{4} \\cdot \\frac{1}{4} = \\frac{1}{32} \\\\)\n",
    "    \n",
    "    * \\\\( P(spam|sports\\; is\\; healthy) = \\frac{P(sports\\; is\\; healthy|spam) \\cdot P(spam)}{P(sports\\; is\\; healthy|spam) \\cdot P(spam)) + (P(sports\\; is\\; healthy|ham) \\cdot P(ham)} = \\frac{0\\cdot \\frac{3}{7}}{0\\cdot \\frac{3}{7} +  \\frac{1}{32}\\cdot \\frac{4}{7} }  =  0\\\\)\n",
    "\n",
    "    * \\\\( P(ham|sports\\; is\\; healthy) = \\frac{P(sports\\; is\\; healthy|ham) \\cdot P(ham)}{P(sports\\; is\\; healthy|spam) \\cdot P(spam)) + (P(sports\\; is\\; healthy|ham) \\cdot P(ham)} = \\frac{ \\frac{1}{32}  \\cdot \\frac{4}{7}}{0\\cdot \\frac{3}{7} +  \\frac{1}{32}\\cdot \\frac{4}{7} }  = 1 \\\\)\n",
    "\n"
   ]
  },
  {
   "cell_type": "code",
   "execution_count": 14,
   "metadata": {},
   "outputs": [],
   "source": [
    "import matplotlib.pyplot as plt"
   ]
  },
  {
   "cell_type": "code",
   "execution_count": 15,
   "metadata": {},
   "outputs": [],
   "source": [
    "def naive_bayes_classifier(test_msg, laplace_smoothing = False):\n",
    "\n",
    "    print('input message : ', test_msg)\n",
    "    \n",
    "    # 주어진 메시지를 단어 단위로 구분하고 카운트 (중복 제거)\n",
    "    test_list = set(test_msg.split(' '))\n",
    "    table_test = np.zeros(len(V))\n",
    "\n",
    "    # 입력 메시지에서 사용된 단어 0 또는 1로 표시\n",
    "    for i, word in enumerate(V):\n",
    "        table_test[i] += word in test_list\n",
    "        \n",
    "    # likelihood\n",
    "    tmp = p_xi_y[:, np.where(table_test == 1)].reshape(2, -1)\n",
    "    print('P(Xi|y): \\n', tmp)  \n",
    "    \n",
    "    if laplace_smoothing == True:\n",
    "        tmp += 0.000001\n",
    "    \n",
    "    p_x_y = np.transpose(tmp).prod(0)\n",
    "    print('P(X|Spam): ', p_x_y[0])\n",
    "    print('P(X|Ham): ', p_x_y[1])\n",
    "    \n",
    "    # Posterior = likelihood x pior\n",
    "    p_y_x = p_x_y * p_y\n",
    "    p_y_x /= p_y_x.sum()\n",
    "    print('P(Spam|X): ', p_y_x[0])\n",
    "    print('P(Ham|X): ', p_y_x[1])\n",
    "    \n",
    "    if p_y_x[0] == 0.5:\n",
    "        print(\"cannot decide\")\n",
    "    else:\n",
    "        if list(p_y_x).index(max(p_y_x)) == 0:\n",
    "            print(\"Spam message\")\n",
    "        else:\n",
    "            print(\"Ham message\")\n",
    "    \n",
    "    # visualize\n",
    "    fig = plt.figure()\n",
    "    ax = fig.add_axes([0, 0, 1, 1])\n",
    "    ax.bar(list([\"spam\", \"ham\"]), p_y_x)\n",
    "    plt.title('Naive Bayes')\n",
    "    plt.show\n",
    "    \n",
    "    return p_y_x\n",
    "\n",
    "    "
   ]
  },
  {
   "cell_type": "code",
   "execution_count": 16,
   "metadata": {},
   "outputs": [
    {
     "name": "stdout",
     "output_type": "stream",
     "text": [
      "input message :  sports is healthy\n",
      "P(Xi|y): \n",
      " [[0.         0.33333333 0.        ]\n",
      " [0.5        0.25       0.25      ]]\n",
      "P(X|Spam):  0.0\n",
      "P(X|Ham):  0.03125\n",
      "P(Spam|X):  0.0\n",
      "P(Ham|X):  1.0\n",
      "Ham message\n"
     ]
    },
    {
     "data": {
      "text/plain": [
       "array([0., 1.])"
      ]
     },
     "execution_count": 16,
     "metadata": {},
     "output_type": "execute_result"
    },
    {
     "data": {
      "image/png": "[encoded data removed]",
      "text/plain": [
       "<Figure size 432x288 with 1 Axes>"
      ]
     },
     "metadata": {
      "needs_background": "light"
     },
     "output_type": "display_data"
    }
   ],
   "source": [
    "# 정상 메시지 확인\n",
    "naive_bayes_classifier(\"sports is healthy\")"
   ]
  },
  {
   "cell_type": "code",
   "execution_count": 17,
   "metadata": {},
   "outputs": [
    {
     "name": "stdout",
     "output_type": "stream",
     "text": [
      "input message :  secret is secret\n",
      "P(Xi|y): \n",
      " [[0.66666667 0.33333333]\n",
      " [0.25       0.25      ]]\n",
      "P(X|Spam):  0.2222222222222222\n",
      "P(X|Ham):  0.0625\n",
      "P(Spam|X):  0.7272727272727274\n",
      "P(Ham|X):  0.27272727272727276\n",
      "Spam message\n"
     ]
    },
    {
     "data": {
      "text/plain": [
       "array([0.72727273, 0.27272727])"
      ]
     },
     "execution_count": 17,
     "metadata": {},
     "output_type": "execute_result"
    },
    {
     "data": {
      "image/png": "[encoded data removed]",
      "text/plain": [
       "<Figure size 432x288 with 1 Axes>"
      ]
     },
     "metadata": {
      "needs_background": "light"
     },
     "output_type": "display_data"
    }
   ],
   "source": [
    "# 스팸 메시지 확인\n",
    "naive_bayes_classifier(\"secret is secret\")"
   ]
  },
  {
   "cell_type": "code",
   "execution_count": 18,
   "metadata": {},
   "outputs": [
    {
     "name": "stdout",
     "output_type": "stream",
     "text": [
      "input message :  is\n",
      "P(Xi|y): \n",
      " [[0.33333333]\n",
      " [0.25      ]]\n",
      "P(X|Spam):  0.3333333333333333\n",
      "P(X|Ham):  0.25\n",
      "P(Spam|X):  0.5\n",
      "P(Ham|X):  0.5\n",
      "cannot decide\n"
     ]
    },
    {
     "data": {
      "text/plain": [
       "array([0.5, 0.5])"
      ]
     },
     "execution_count": 18,
     "metadata": {},
     "output_type": "execute_result"
    },
    {
     "data": {
      "image/png": "[encoded data removed]",
      "text/plain": [
       "<Figure size 432x288 with 1 Axes>"
      ]
     },
     "metadata": {
      "needs_background": "light"
     },
     "output_type": "display_data"
    }
   ],
   "source": [
    "naive_bayes_classifier(\"is\")"
   ]
  },
  {
   "cell_type": "code",
   "execution_count": 19,
   "metadata": {},
   "outputs": [
    {
     "name": "stdout",
     "output_type": "stream",
     "text": [
      "[[1. 0. 0. 0. 0. 0. 0. 0. 0. 0. 1. 0. 0. 0. 0.]\n",
      " [0. 1. 1. 1. 1. 1. 0. 0. 0. 0. 0. 1. 0. 0. 0.]]\n"
     ]
    }
   ],
   "source": [
    "\n",
    "# 예외 상황\n",
    "\n",
    "table = np.zeros([2, len(V)])\n",
    "\n",
    "\n",
    "spam_msgs = [\"secret is secret\"]\n",
    "ham_msgs = [\"low price for valued customer offer\"]\n",
    "\n",
    "spam_list = [ set(spam_msg.split(' ')) for spam_msg in spam_msgs ]\n",
    "ham_list = [ set(ham_msg.split(' ')) for ham_msg in ham_msgs ]\n",
    "\n",
    "for i, word in enumerate(V):\n",
    "    for spam_msg in spam_list:\n",
    "        table[0][i] += word in spam_msg\n",
    "    \n",
    "    for ham_msg in ham_list:\n",
    "        table[1][i] += word in ham_msg\n",
    "\n",
    "num_spam = len(spam_msgs)\n",
    "num_ham = len(ham_msgs)\n",
    "num_total = num_ham + num_spam\n",
    "\n",
    "p_spam = num_spam / num_total\n",
    "p_ham = num_ham / num_total\n",
    "\n",
    "p_xi_y = table / np.array([num_spam, num_ham]).reshape(2, 1)\n",
    "p_y = np.array([num_spam, num_ham]) / num_total\n",
    "\n",
    "print(p_xi_y)\n",
    "\n",
    "\n"
   ]
  },
  {
   "cell_type": "code",
   "execution_count": 20,
   "metadata": {},
   "outputs": [
    {
     "name": "stdout",
     "output_type": "stream",
     "text": [
      "input message :  sports is healthy\n",
      "P(Xi|y): \n",
      " [[0. 1. 0.]\n",
      " [0. 0. 0.]]\n",
      "P(X|Spam):  0.0\n",
      "P(X|Ham):  0.0\n",
      "P(Spam|X):  nan\n",
      "P(Ham|X):  nan\n"
     ]
    },
    {
     "name": "stderr",
     "output_type": "stream",
     "text": [
      "/Users/chongkeunpaik/.pyenv/versions/anaconda3-5.2.0/envs/aita/lib/python3.6/site-packages/ipykernel_launcher.py:26: RuntimeWarning: invalid value encountered in true_divide\n"
     ]
    },
    {
     "ename": "ValueError",
     "evalue": "nan is not in list",
     "output_type": "error",
     "traceback": [
      "\u001b[0;31m---------------------------------------------------------------------------\u001b[0m",
      "\u001b[0;31mValueError\u001b[0m                                Traceback (most recent call last)",
      "\u001b[0;32m<ipython-input-20-b6e7685f4015>\u001b[0m in \u001b[0;36m<module>\u001b[0;34m\u001b[0m\n\u001b[1;32m      1\u001b[0m \u001b[0;31m# 정상 메시지 확인\u001b[0m\u001b[0;34m\u001b[0m\u001b[0;34m\u001b[0m\u001b[0;34m\u001b[0m\u001b[0m\n\u001b[0;32m----> 2\u001b[0;31m \u001b[0mnaive_bayes_classifier\u001b[0m\u001b[0;34m(\u001b[0m\u001b[0;34m\"sports is healthy\"\u001b[0m\u001b[0;34m)\u001b[0m\u001b[0;34m\u001b[0m\u001b[0;34m\u001b[0m\u001b[0m\n\u001b[0m",
      "\u001b[0;32m<ipython-input-15-4f126d9afc64>\u001b[0m in \u001b[0;36mnaive_bayes_classifier\u001b[0;34m(test_msg, laplace_smoothing)\u001b[0m\n\u001b[1;32m     31\u001b[0m         \u001b[0mprint\u001b[0m\u001b[0;34m(\u001b[0m\u001b[0;34m\"cannot decide\"\u001b[0m\u001b[0;34m)\u001b[0m\u001b[0;34m\u001b[0m\u001b[0;34m\u001b[0m\u001b[0m\n\u001b[1;32m     32\u001b[0m     \u001b[0;32melse\u001b[0m\u001b[0;34m:\u001b[0m\u001b[0;34m\u001b[0m\u001b[0;34m\u001b[0m\u001b[0m\n\u001b[0;32m---> 33\u001b[0;31m         \u001b[0;32mif\u001b[0m \u001b[0mlist\u001b[0m\u001b[0;34m(\u001b[0m\u001b[0mp_y_x\u001b[0m\u001b[0;34m)\u001b[0m\u001b[0;34m.\u001b[0m\u001b[0mindex\u001b[0m\u001b[0;34m(\u001b[0m\u001b[0mmax\u001b[0m\u001b[0;34m(\u001b[0m\u001b[0mp_y_x\u001b[0m\u001b[0;34m)\u001b[0m\u001b[0;34m)\u001b[0m \u001b[0;34m==\u001b[0m \u001b[0;36m0\u001b[0m\u001b[0;34m:\u001b[0m\u001b[0;34m\u001b[0m\u001b[0;34m\u001b[0m\u001b[0m\n\u001b[0m\u001b[1;32m     34\u001b[0m             \u001b[0mprint\u001b[0m\u001b[0;34m(\u001b[0m\u001b[0;34m\"Spam message\"\u001b[0m\u001b[0;34m)\u001b[0m\u001b[0;34m\u001b[0m\u001b[0;34m\u001b[0m\u001b[0m\n\u001b[1;32m     35\u001b[0m         \u001b[0;32melse\u001b[0m\u001b[0;34m:\u001b[0m\u001b[0;34m\u001b[0m\u001b[0;34m\u001b[0m\u001b[0m\n",
      "\u001b[0;31mValueError\u001b[0m: nan is not in list"
     ]
    }
   ],
   "source": [
    "# 정상 메시지 확인\n",
    "naive_bayes_classifier(\"sports is healthy\")"
   ]
  },
  {
   "cell_type": "code",
   "execution_count": 21,
   "metadata": {},
   "outputs": [
    {
     "name": "stdout",
     "output_type": "stream",
     "text": [
      "input message :  sports is healthy\n",
      "P(Xi|y): \n",
      " [[0. 1. 0.]\n",
      " [0. 0. 0.]]\n",
      "P(X|Spam):  1.0000009999999997e-12\n",
      "P(X|Ham):  9.999999999999999e-19\n",
      "P(Spam|X):  0.999999000002\n",
      "P(Ham|X):  9.999980000040002e-07\n",
      "Spam message\n"
     ]
    },
    {
     "data": {
      "text/plain": [
       "array([9.99999e-01, 9.99998e-07])"
      ]
     },
     "execution_count": 21,
     "metadata": {},
     "output_type": "execute_result"
    },
    {
     "data": {
      "image/png": "[encoded data removed]",
      "text/plain": [
       "<Figure size 432x288 with 1 Axes>"
      ]
     },
     "metadata": {
      "needs_background": "light"
     },
     "output_type": "display_data"
    }
   ],
   "source": [
    "# practical naive bayes : laplace smoothing 적용\n",
    "naive_bayes_classifier(\"sports is healthy\", laplace_smoothing = True)\n"
   ]
  }
 ],
 "metadata": {
  "kernelspec": {
   "display_name": "aita",
   "language": "python",
   "name": "aita"
  },
  "language_info": {
   "codemirror_mode": {
    "name": "ipython",
    "version": 3
   },
   "file_extension": ".py",
   "mimetype": "text/x-python",
   "name": "python",
   "nbconvert_exporter": "python",
   "pygments_lexer": "ipython3",
   "version": "3.6.12"
  }
 },
 "nbformat": 4,
 "nbformat_minor": 2
}
